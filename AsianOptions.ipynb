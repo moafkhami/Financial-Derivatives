{
 "cells": [
  {
   "cell_type": "markdown",
   "metadata": {},
   "source": [
    "# Pricing Asian Options Using Monte Carlo Control Variate"
   ]
  },
  {
   "cell_type": "markdown",
   "metadata": {},
   "source": [
    "## Introduction"
   ]
  },
  {
   "cell_type": "markdown",
   "metadata": {},
   "source": [
    "The payoff of an arithmetic Asian call option is defined as $$\\Big(\\frac{1}{N+1} \\sum_{i=0}^{N}S_{t_i}-K \\Big).$$\n",
    "Calculating the price of this option using Monte Carlo simulation is straightforward, however achieving small standard errors requires a very large number of simulations and is thus a time consuming process.\n",
    "\n",
    "An alternative solution is to use the payoff of a geometric Asian call option as the control variate: \n",
    "$$\n",
    "\\Big( \\big( \\prod_{i=0}^{N}S_{t_i} \\big)^{\\frac{1}{N+1}} \\Big) ^{+}\n",
    "$$\n",
    "\n",
    "An analytical solution to the price of this options exists under GBM assumptions and this value along with the distance between MC simulations  would allow us to obtain an approximate for the analytical formula for the arithmetic Asian price.\n",
    "\n",
    "We will assume that stock prices follow GBM. i.e.,\n",
    "$$\n",
    "S(\\Delta t) = S_0 \\exp \\big[(\\mu - \\frac{\\sigma^2}{2})\\Delta t+(\\sigma \\sqrt{\\Delta t})\\epsilon \\big]\n",
    "$$"
   ]
  },
  {
   "cell_type": "markdown",
   "metadata": {},
   "source": [
    "## Analytical Solution"
   ]
  },
  {
   "cell_type": "markdown",
   "metadata": {},
   "source": [
    "The price of a geometric Asian option in the Black-Scholes model is given by:\n",
    "$$\n",
    "P_g = e^{-rT} \\big( S_0 e^{\\rho^T} N(d_1) - KN(d_2) \\big)\n",
    "$$\n",
    "where $$ \\rho = \\frac{1}{2} \\big( r-\\frac{1}{2}\\sigma^2 + \\hat{\\sigma}^2 \\big)'$$\n",
    "$$\n",
    "\\hat{\\sigma}^2 := \\sigma \\frac{2N+1}{6N+1}\n",
    "$$\n",
    "\n",
    "with $\\hat{\\sigma}$ being the adjusted sigma and $N$ the total number of trading days ($T*252$)\n",
    "\n",
    "$$d_1 = \\frac{1}{\\sqrt{T}\\hat{\\sigma}} \\big( \\ln(\\frac{S_0}{K}) + (\\rho+\\frac{\\hat{\\sigma}}{2}) T \\big) ;$$\n",
    "\n",
    "$$d_2 = \\frac{1}{\\sqrt{T}\\hat{\\sigma}} \\big( \\ln(\\frac{S_0}{K}) - (\\rho+\\frac{\\hat{\\sigma}}{2}) T \\big) $$\n",
    "\n",
    "We will start by pricing a geometric Asian call option using the above formula. Consider the following parameters: $ r = 3\\%, \\sigma = 0.3, S_0 = 100, K=100$, and $T=5$.\n"
   ]
  },
  {
   "cell_type": "code",
   "execution_count": 9,
   "metadata": {},
   "outputs": [
    {
     "name": "stdout",
     "output_type": "stream",
     "text": [
      "[1] 15.17113\n"
     ]
    }
   ],
   "source": [
    "sighatt <- function(sig, N){\n",
    "  sighat = sig*sqrt((2*N + 1)/(6*(N + 1)))\n",
    "  return(sighat)\n",
    "}\n",
    "rhoo <- function(r, sig, sighat){\n",
    "  rho=0.5*(r - 0.5*sig^2 + sighat^2)\n",
    "  return(rho)\n",
    "}\n",
    "d11 <- function(tau, sighat, S0, K, rho){\n",
    "  d1 = (1/(sighat*sqrt(tau)))*(log(S0/K) + (rho + 0.5*sighat^2)*tau)\n",
    " return(d1) \n",
    "}\n",
    "\n",
    "d22 <- function(tau, sighat, S0, K, rho){\n",
    "  d2 = (1/(sighat*sqrt(tau)))*(log(S0/K) + (rho - 0.5*sighat^2)*tau)\n",
    "  return(d2) \n",
    "}\n",
    "\n",
    "Pgg <- function(r, tau, S0, K, rho, d1, d2){\n",
    "  Pg = exp(-r*tau)*(S0*exp(rho*tau)*pnorm(d1) - K*pnorm(d2))\n",
    "  return(Pg)\n",
    "}\n",
    "\n",
    "r = 0.03\n",
    "sig = 0.3\n",
    "S0 = 100\n",
    "K = 100\n",
    "tau = 5\n",
    "N = tau*252\n",
    "q = 0\n",
    "sighat = sighatt(sig,N)\n",
    "rho = rhoo(r,sig,sighat)\n",
    "d1 = d11(tau,sighat,S0,K,rho)\n",
    "d2 = d22(tau,sighat,S0,K,rho)\n",
    "Pg = Pgg(r,tau,S0,K,rho,d1,d2)\n",
    "print(Pg)"
   ]
  },
  {
   "cell_type": "markdown",
   "metadata": {},
   "source": [
    "## Arithmetic Asian Option Using Monte Carlo"
   ]
  },
  {
   "cell_type": "markdown",
   "metadata": {},
   "source": [
    "Now, we will implement a Monte Carlo scheme to price an arithmetic Asian call option with 1,000,000 simulations. We will also record the confidence interval and the time it takes to obtain the result."
   ]
  },
  {
   "cell_type": "code",
   "execution_count": 8,
   "metadata": {},
   "outputs": [],
   "source": [
    "set.seed(23)\n",
    "lnS = log(S0)\n",
    "AMC <- function(m, n){\n",
    "  matr <- matrix(NA,n+1,2)\n",
    "  Xi = matrix(NA,m,1)\n",
    "  dt = tau/n\n",
    "  matr[1,] = c(0,S0)\n",
    "  nudt = (r-q-0.5*sig^2)*dt\n",
    "  sigsdt = sig*sqrt(dt)\n",
    "  lnS = log(S0)\n",
    "  Sum_CT = 0\n",
    "  Sum_CT2 = 0\n",
    "  ptm <- proc.time()\n",
    "  for(j in 1:m) {\n",
    "    lnSt = lnS\n",
    "    for(i in 1:n) {\n",
    "      lnSt = lnSt + nudt + sigsdt*rnorm(1)\n",
    "      matr[i + 1, 1] = i*dt\n",
    "      matr[i + 1, 2] = exp(lnSt)\n",
    "    }\n",
    "    CT = pmax((1/(n + 1))*sum(matr[, 2]) - K, 0)\n",
    "    Xi[j, 1]=CT*exp(-r*tau)\n",
    "    Sum_CT = Sum_CT + CT\n",
    "    Sum_CT2 = Sum_CT2 + CT*CT\n",
    "  }\n",
    "  assign(\"X\", Xi, .GlobalEnv)\n",
    "  price = Sum_CT/m*exp(-r*tau)\n",
    "  SD = sqrt((Sum_CT2 - Sum_CT*Sum_CT/m)*exp(-2*r*tau)/(m - 1))\n",
    "  chrono <- (proc.time() - ptm)[3]\n",
    "  newlist <- list(\"price\"=price, \"SD\" = SD, \"time\" = chrono)\n",
    "  return(newlist)\n",
    "}\n",
    "\n",
    "#AMCC <- AMC(1000000, N)\n",
    "#Pa <- AMCC$price\n",
    "#print(AMCC)"
   ]
  },
  {
   "cell_type": "markdown",
   "metadata": {},
   "source": [
    "The result obtained is $P_{a}^{sim}$=17.50066. Given the standard deviation is 0.3078367, the 95% confidence interval for this solution is $[17.44066, 17.56066]$."
   ]
  },
  {
   "cell_type": "markdown",
   "metadata": {},
   "source": [
    "## Geometric Asian Option Using Monte Carlo\n"
   ]
  },
  {
   "cell_type": "markdown",
   "metadata": {},
   "source": [
    "We do the same for a Geometric Asian option with the same parameters."
   ]
  },
  {
   "cell_type": "code",
   "execution_count": 11,
   "metadata": {},
   "outputs": [
    {
     "name": "stdout",
     "output_type": "stream",
     "text": [
      "$price\n",
      "[1] 54.07486\n",
      "\n",
      "$SD\n",
      "[1] 58.12661\n",
      "\n",
      "$time\n",
      "elapsed \n",
      "690.311 \n",
      "\n",
      "$price\n",
      "[1] 65.39111\n",
      "\n",
      "$SD\n",
      "[1] 61.5649\n",
      "\n",
      "$time\n",
      "elapsed \n",
      "676.539 \n",
      "\n"
     ]
    }
   ],
   "source": [
    "set.seed(23)\n",
    "lnS = log(S0)\n",
    "GMC <- function(m, n){\n",
    "  matr <- matrix(NA, n + 1, 2)\n",
    "  Yi = matrix(NA, m, 1)\n",
    "  dt = tau/n\n",
    "  matr[1,] = c(0,S0)\n",
    "  nudt = (r-q-0.5*sig^2)*dt\n",
    "  sigsdt = sig*sqrt(dt)\n",
    "  lnS = log(S0)\n",
    "  Sum_CT = 0\n",
    "  Sum_CT2 = 0\n",
    "  ptm <- proc.time()\n",
    "  for(j in 1:m) {\n",
    "    lnSt = lnS\n",
    "    for(i in 1:n) {\n",
    "      lnSt = lnSt + nudt + sigsdt*rnorm(1)\n",
    "      matr[i+1,1]=i*dt\n",
    "      matr[i+1,2]=lnSt\n",
    "    }\n",
    "    Prod = exp(mean(matr[,2]))\n",
    "    #Prod=exp(sum(matr[,2]))/(n+1)\n",
    "    CT = pmax(Prod - K,0)\n",
    "    Yi[j, 1] = CT*exp(-r*tau)\n",
    "    Sum_CT = Sum_CT+CT\n",
    "    Sum_CT2 = Sum_CT2+CT*CT\n",
    "  }\n",
    "  assign(\"Y\", Yi,.GlobalEnv)\n",
    "  price = Sum_CT/m*exp(-r*tau)\n",
    "  SD = sqrt((Sum_CT2-Sum_CT*Sum_CT/m)*exp(-2*r*tau)/(m - 1))\n",
    "  chrono <- (proc.time() - ptm)[3]\n",
    "  newlist <- list(\"price\" = price, \"SD\" = SD, \"time\" = chrono)\n",
    "  return(newlist)\n",
    "}\n",
    "#  GMCC <- (GMC(200000, N))\n",
    "#  print(GMCC)\n",
    "#  err <- GMCC$price\n"
   ]
  },
  {
   "cell_type": "markdown",
   "metadata": {},
   "source": [
    "The result obtained is $P_{g}^{sim}$=15.35956. Given the standard deviation is 0.3067162, the 95% confidence interval for this solution is $[15.29956, 15.41956]$."
   ]
  },
  {
   "cell_type": "markdown",
   "metadata": {},
   "source": [
    "## Control Variate"
   ]
  },
  {
   "cell_type": "markdown",
   "metadata": {},
   "source": [
    "Rather than running 1 million simulations, let us run only $M=$10,000 paths for each option and assign\n",
    "- item numbers $X_i$ which are M replications for the arithmetic Asian Option price\n",
    "- item numbers $Y_i$ which are M replication for the geometric Asian Option price\n",
    "to calculate $b^*$ such that\n",
    "\n",
    "$$\n",
    "b^* = \\frac{\\sum_{M=1}^{M}(X_i-\\bar{X})(Y_i-\\bar{Y})}{\\sum_{M=1}^{M}(X_i-\\bar{X})^2}\n",
    "$$\n",
    "\n",
    "i.e., $b^*$ is the slope of a regression line $Y = a + bX + \\epsilon$.\n",
    "\n",
    "> Note that this is already implemented in the code in the previous sections."
   ]
  },
  {
   "cell_type": "code",
   "execution_count": 13,
   "metadata": {},
   "outputs": [
    {
     "data": {
      "text/html": [
       "0.00499076841147753"
      ],
      "text/latex": [
       "0.00499076841147753"
      ],
      "text/markdown": [
       "0.00499076841147753"
      ],
      "text/plain": [
       "[1] 0.004990768"
      ]
     },
     "metadata": {},
     "output_type": "display_data"
    }
   ],
   "source": [
    " z <- lm(X ~ Y)\n",
    " b <- as.double(z$coef[2])\n",
    "b"
   ]
  },
  {
   "cell_type": "markdown",
   "metadata": {},
   "source": [
    "We can Calculate the error of pricing for the geometric Asian: $E_g=P_g-P_g^{sim}$"
   ]
  },
  {
   "cell_type": "code",
   "execution_count": 15,
   "metadata": {},
   "outputs": [
    {
     "data": {
      "text/html": [
       "-50.2199774067061"
      ],
      "text/latex": [
       "-50.2199774067061"
      ],
      "text/markdown": [
       "-50.2199774067061"
      ],
      "text/plain": [
       "[1] -50.21998"
      ]
     },
     "metadata": {},
     "output_type": "display_data"
    }
   ],
   "source": [
    "errg <- Pg - err\n",
    "errg"
   ]
  },
  {
   "cell_type": "markdown",
   "metadata": {},
   "source": [
    "And we can calculate the modified arithmetic option price ($P_a^*$) as $$P_a^*=P_a^{sim}-b^* E_g$$"
   ]
  },
  {
   "cell_type": "code",
   "execution_count": 18,
   "metadata": {},
   "outputs": [
    {
     "data": {
      "text/html": [
       "54.32550121623"
      ],
      "text/latex": [
       "54.32550121623"
      ],
      "text/markdown": [
       "54.32550121623"
      ],
      "text/plain": [
       "[1] 54.3255"
      ]
     },
     "metadata": {},
     "output_type": "display_data"
    }
   ],
   "source": [
    "Pmod <- AMCC$price - b*errg\n",
    "Pmod"
   ]
  },
  {
   "cell_type": "markdown",
   "metadata": {},
   "source": [
    "We can see that while the second method is more than 90 times quicker than MonteCarlo without control variate the error is less than one percent.  "
   ]
  },
  {
   "cell_type": "code",
   "execution_count": null,
   "metadata": {},
   "outputs": [],
   "source": []
  }
 ],
 "metadata": {
  "kernelspec": {
   "display_name": "R",
   "language": "R",
   "name": "ir"
  },
  "language_info": {
   "codemirror_mode": "r",
   "file_extension": ".r",
   "mimetype": "text/x-r-source",
   "name": "R",
   "pygments_lexer": "r",
   "version": "3.6.1"
  }
 },
 "nbformat": 4,
 "nbformat_minor": 4
}
