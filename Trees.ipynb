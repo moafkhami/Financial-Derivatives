{
 "cells": [
  {
   "cell_type": "code",
   "execution_count": 20,
   "metadata": {},
   "outputs": [],
   "source": [
    "from numpy import sqrt, log, exp, random\n",
    "from scipy.stats import norm"
   ]
  },
  {
   "cell_type": "markdown",
   "metadata": {},
   "source": [
    "# Binomial Tree"
   ]
  },
  {
   "cell_type": "markdown",
   "metadata": {},
   "source": [
    "Let us start by constructing construcing an *additive* binomial tree.This tree can be used to price European and American Call and Put options."
   ]
  },
  {
   "cell_type": "code",
   "execution_count": 7,
   "metadata": {},
   "outputs": [
    {
     "name": "stdout",
     "output_type": "stream",
     "text": [
      "2.8080545758750968\n",
      "6.1621091990310015\n"
     ]
    }
   ],
   "source": [
    "def Additive(K, T, S, sigma, r, N, American, Call):\n",
    "    #Coefficients\n",
    "    dt=T/N\n",
    "    nu=r-0.5*sigma**2\n",
    "    dxu=sqrt((sigma**2)*dt+(nu*dt)**2)\n",
    "    dxd=-dxu\n",
    "    pu=0.5+0.5*(nu*dt/dxu)\n",
    "    pd=1-pu\n",
    "    #Precompute constants\n",
    "    disc=exp(-r*dt)\n",
    "    dpu=disc*pu\n",
    "    dpd=disc*pd\n",
    "    edxud=exp(dxu-dxd)\n",
    "    edxd=exp(dxd)\n",
    "    \n",
    "    StE=[0]*(N+1)\n",
    "    StA=[0]*(N+1)\n",
    "    CE=[0]*(N+1)\n",
    "    PE=[0]*(N+1)\n",
    "    CA=[0]*(N+1)\n",
    "    PA=[0]*(N+1)\n",
    "    #asset prices at maturity N:\n",
    "    StA[0]=S*exp(N*dxd)\n",
    "    StE[0]=S*exp(N*dxd)\n",
    "    for j in range(1,N+1):\n",
    "        StE[j]=StE[j-1]*edxud\n",
    "        StA[j]=StA[j-1]*edxud\n",
    "    #initilise option values at maturity:\n",
    "    for j in range(1,N+1):\n",
    "        CE[j]=max(0,StE[j]-K)\n",
    "        PE[j]=max(0, K-StE[j])\n",
    "        CA[j]=max(0,StA[j]-K)\n",
    "        PA[j]=max(0, K-StA[j])\n",
    "    #Stepping Back   \n",
    "    for i in range(N,0,-1):\n",
    "        for j in range(0,i):\n",
    "            CE[j]=disc*(pu*CE[j+1]+pd*CE[j])\n",
    "            PE[j]=disc*(pu*PE[j+1]+pd*PE[j])\n",
    "            CA[j]=dpd*CA[j]+dpu*CA[j+1]\n",
    "            PA[j]=dpd*PA[j]+dpu*PA[j+1]\n",
    "            \n",
    "            StA[j]=StA[j]/edxd\n",
    "            PA[j]=max(PA[j],K-StA[j])\n",
    "            CA[j]=max(CA[j], StA[j]-K)\n",
    "    if American == True and Call == True:\n",
    "        return CA[0]\n",
    "    elif American == True and Call == False:\n",
    "        return PA[0]\n",
    "    elif American == False and Call == True:\n",
    "        return CE[0]\n",
    "    else:\n",
    "        return PE[0]\n",
    "#    return CE[0], PE[0], CA[0],PA[0]\n",
    "\n",
    "print(Additive(100,32/252,100,0.2,0.0051,500, False, False))\n",
    "print(Additive(100,1,100,0.2,0.06, 3, True, False))"
   ]
  },
  {
   "cell_type": "markdown",
   "metadata": {},
   "source": [
    "# Trinomial Tree"
   ]
  },
  {
   "cell_type": "markdown",
   "metadata": {},
   "source": [
    "Similary, we can implement a trinomial tree to price European, American Call and Put options."
   ]
  },
  {
   "cell_type": "code",
   "execution_count": 6,
   "metadata": {},
   "outputs": [
    {
     "name": "stdout",
     "output_type": "stream",
     "text": [
      "10.983406625431213\n"
     ]
    }
   ],
   "source": [
    "def Trinomial(K, T, S, sigma, r, div, N, American, Call):\n",
    "#Constants\n",
    "    dt=T/N\n",
    "    dx=sigma*sqrt(3*dt)\n",
    "    nu=r-div-0.5*sigma**2\n",
    "    edx=exp(dx)\n",
    "    pu=0.5*((dt*sigma**2+nu**2*dt**2)/(dx**2)+nu*dt/dx)\n",
    "    pm=1-((dt*sigma**2+nu**2*dt**2)/(dx**2))\n",
    "    pd=0.5*((dt*sigma**2+nu**2*dt**2)/(dx**2)-nu*dt/dx)\n",
    "    disc=exp(-r*dt)\n",
    "#Initialise Asset Prices\n",
    "    StE=[0]*(2*N+1)\n",
    "    StA=[0]*(2*N+1)\n",
    "    CE=[[0 for j in range(2*N+1)] for i in range(N+1)]\n",
    "    PE=[[0 for j in range(2*N+1)] for i in range(N+1)]\n",
    "    CA=[[0 for j in range(2*N+1)] for i in range(N+1)]\n",
    "    PA=[[0 for j in range(2*N+1)] for i in range(N+1)]\n",
    "\n",
    "    StE[0]=S*exp(-N*dx)\n",
    "    StA[0]=S*exp(-N*dx)\n",
    "    for j in range(1,2*N+1):\n",
    "        StE[j]=StE[j-1]*edx\n",
    "        StA[j]=StA[j-1]*edx\n",
    "    for j in range(0,2*N+1):\n",
    "        CE[N][j]=max(0, StE[j]-K)\n",
    "        PE[N][j]=max(0,K-StE[j])\n",
    "        CA[N][j]=max(0, StA[j]-K)\n",
    "        PA[N][j]=max(0,K-StA[j]-K)\n",
    "#Stepping back:\n",
    "    for i in range(N-1,-1,-1):\n",
    "        for j in range(N-i,N+i+1):\n",
    "            CE[i][j]=disc*(pu*CE[i+1][j+1]+pm*CE[i+1][j]+pd*CE[i+1][j-1])\n",
    "            PE[i][j]=disc*(pu*PE[i+1][j+1]+pm*PE[i+1][j]+pd*PE[i+1][j-1])\n",
    "            CA[i][j]=disc*(pu*CA[i+1][j+1]+pm*CA[i+1][j]+pd*CA[i+1][j-1])\n",
    "            PA[i][j]=disc*(pu*PA[i+1][j+1]+pm*PA[i+1][j]+pd*PA[i+1][j-1])\n",
    "\n",
    "            PA[i][j]=max(PA[i][j],K-StA[i])\n",
    "            CA[i][j]=max(CA[i][j], StA[i]-K)\n",
    "    if American==True and Call==True:\n",
    "        return CA[0][N]\n",
    "    elif American==True and Call==False:\n",
    "        return PA[0][N]\n",
    "    elif American==False and Call==True:\n",
    "        return CE[0][N]\n",
    "    else:\n",
    "        return PE[0][N]\n",
    "    \n",
    "print(Trinomial(100,1,100,0.2,0.06,0,300,True, True))"
   ]
  },
  {
   "cell_type": "markdown",
   "metadata": {},
   "source": [
    "## Exotic options"
   ]
  },
  {
   "cell_type": "markdown",
   "metadata": {},
   "source": [
    "We can also use the trees to price exotic options. Below are some examples."
   ]
  },
  {
   "cell_type": "markdown",
   "metadata": {},
   "source": [
    "### American Down-and-out option"
   ]
  },
  {
   "cell_type": "code",
   "execution_count": 9,
   "metadata": {},
   "outputs": [
    {
     "name": "stdout",
     "output_type": "stream",
     "text": [
      "9.995775102630393\n"
     ]
    }
   ],
   "source": [
    "def ADOBarrier(K,T,S,sigma,r,N, H):\n",
    "   #Coefficients\n",
    "   dt=T/N\n",
    "   nu=r-0.5*sigma**2\n",
    "   dxu=sqrt((sigma**2)*dt+(nu*dt)**2)\n",
    "   dxd=-dxu\n",
    "   pu=0.5+0.5*(nu*dt/dxu)\n",
    "   pd=1-pu\n",
    "   #Precompute constants\n",
    "   disc=exp(-r*dt)\n",
    "   edxud=exp(dxu-dxd)\n",
    "   edxd=exp(dxd)\n",
    "\n",
    "   StA=[0]*(N+1)\n",
    "\n",
    "   CA=[0]*(N+1)\n",
    "   #asset prices at maturity N:\n",
    "   StA[0]=S*exp(N*dxd)\n",
    "   for j in range(1,N+1):\n",
    "       StA[j]=StA[j-1]*edxud\n",
    "   #initilise option values at maturity:\n",
    "\n",
    "   for j in range(1,N+1):\n",
    "       if StA[j]> H:\n",
    "           CA[j]=max(0,StA[j]-K)\n",
    "\n",
    "       else:\n",
    "           CA[j]=0\n",
    "\n",
    "   #Stepping Back   \n",
    "   for i in range(N,0,-1):\n",
    "       for j in range(0,i):\n",
    "           StA[j]=StA[j]/edxd\n",
    "           if StA[j]> H:\n",
    "               CA[j]=disc*(pu*CA[j+1]+pd*CA[j])\n",
    "               CA[j]=max(CA[j],StA[j]-K)\n",
    "           else:\n",
    "               CA[j]=0\n",
    "\n",
    "   return CA[0]\n",
    "\n",
    "print(ADOBarrier(100,1,100,0.2,0.06,3,95))"
   ]
  },
  {
   "cell_type": "markdown",
   "metadata": {},
   "source": [
    "### Euorpean Up-and-Out Call\n"
   ]
  },
  {
   "cell_type": "code",
   "execution_count": 10,
   "metadata": {},
   "outputs": [
    {
     "name": "stdout",
     "output_type": "stream",
     "text": [
      "0.05420867558544497\n"
     ]
    }
   ],
   "source": [
    "def EUOBarrier(K,T,S,sigma,r,N, H):\n",
    "    #Coefficients\n",
    "    dt=T/N\n",
    "    nu=r-0.5*sigma**2\n",
    "    dxu=sqrt((sigma**2)*dt+(nu*dt)**2)\n",
    "    dxd=-dxu\n",
    "    pu=0.5+0.5*(nu*dt/dxu)\n",
    "    pd=1-pu\n",
    "    #Precompute constants\n",
    "    disc=exp(-r*dt)\n",
    "    edxud=exp(dxu-dxd)\n",
    "    \n",
    "    StE=[0]*(N+1)\n",
    "    CE=[0]*(N+1)\n",
    "\n",
    "    StE[0]=S*exp(N*dxd)\n",
    "    for j in range(1,N+1):\n",
    "        StE[j]=StE[j-1]*edxud\n",
    "    #initilise option values at maturity:\n",
    "    \n",
    "    for j in range(1,N+1):\n",
    "        if StE[j]< H:\n",
    "            CE[j]=max(0,StE[j]-K)\n",
    "        else:\n",
    "            CE[j]=0\n",
    "#    for j in range(1,N+1):\n",
    "#        CE[j]=max(0,StE[j]-K)\n",
    "\n",
    "    #Stepping Back      \n",
    "    for i in range(N,0,-1):\n",
    "        for j in range(0,i):\n",
    "            StE[j]=StE[j]/exp(-dxu)\n",
    "            if StE[j]< H:\n",
    "                CE[j]=disc*(pu*CE[j+1]+pd*CE[j])\n",
    "            else:\n",
    "                CE[j]=0\n",
    "    return CE[0]\n",
    "print(EUOBarrier(10,0.3,10,0.2,0.01,3000, 11))"
   ]
  },
  {
   "cell_type": "markdown",
   "metadata": {},
   "source": [
    "An analytical formula exists for pricing some of the exotic options such as the European Up-and-Out Call. (See Niklas Westermark. *Barrier Option Pricing*, Degree Project in Mathematics, First Level. KTH Royal Institute of Technology, Stockholm, Sweden. for more details)\n",
    " We can compare the performance of the model with this formula."
   ]
  },
  {
   "cell_type": "markdown",
   "metadata": {},
   "source": [
    "To use this formala, first we need to define the BSM formulas"
   ]
  },
  {
   "cell_type": "code",
   "execution_count": 14,
   "metadata": {},
   "outputs": [],
   "source": [
    "def norm_pdf(x):\n",
    "    return (1/((2*pi)**0.5))*exp(-0.5*x*x)\n",
    "\n",
    "\n",
    "def d_j(j, S, K, r, v, T):\n",
    "    \"\"\"d_j = \\frac{log(\\frac{S}{K})+(r+(-1)^{j-1} \\frac{1}{2}v^2)T}{v sqrt(T)}\"\"\"\n",
    "    return (log(S/K) + (r + ((-1)**(j-1))*0.5*v*v)*T)/(v*(T**0.5))\n",
    "\n",
    "\n",
    "def call_price(S, K, r, v, T):\n",
    "    \"\"\"Price of a European call option struck at K, with spot S, constant rate r, constant vol v (over the life of the option) and time to maturity T\"\"\"\n",
    "    return S*norm.cdf(d_j(1, S, K, r, v, T))-K*exp(-r*T) * norm.cdf(d_j(2, S, K, r, v, T))\n",
    "\n",
    "\n",
    "def put_price(S, K, r, v, T):\n",
    "    \"\"\"Price of a European put option struck at K, with spot S, constant rate r, constant vol v (over the life of the option) and time to maturity T\"\"\"\n",
    "    return -S*norm.cdf(-d_j(1, S, K, r, v, T))+K*exp(-r*T) * norm.cdf(-d_j(2, S, K, r, v, T))\n"
   ]
  },
  {
   "cell_type": "code",
   "execution_count": 15,
   "metadata": {},
   "outputs": [],
   "source": [
    "def AnalUO(S,H,K,r,T,sigma):\n",
    "    nu=r-0.5*sigma**2\n",
    "    u=(call_price(S,K,r,sigma,T)-call_price(S,H,r,sigma,T)-(H-K)*exp(-r*T)*norm.cdf(d_j(1, S, H, r, sigma, T))\n",
    "    -((H/S)**(2*nu/(sigma**2)))*((call_price((H**2/S),K,r,sigma,T))\n",
    "    -call_price((H**2/S),H,r,sigma,T)-(H-K)*exp(-r*T)*norm.cdf(d_j(1, H, S, r, sigma, T))))\n",
    "    return u\n",
    "\n",
    "   "
   ]
  },
  {
   "cell_type": "markdown",
   "metadata": {},
   "source": [
    "An example:"
   ]
  },
  {
   "cell_type": "code",
   "execution_count": 16,
   "metadata": {},
   "outputs": [
    {
     "name": "stdout",
     "output_type": "stream",
     "text": [
      "0.050317307441203614\n"
     ]
    }
   ],
   "source": [
    "K=10\n",
    "T=0.3\n",
    "S=10\n",
    "sigma=0.2\n",
    "r=0.01\n",
    "H=11\n",
    "print(AnalUO(S,H,K,r,T,sigma)) "
   ]
  },
  {
   "cell_type": "markdown",
   "metadata": {},
   "source": [
    "### European Up-and-In Call"
   ]
  },
  {
   "cell_type": "code",
   "execution_count": 17,
   "metadata": {},
   "outputs": [
    {
     "name": "stdout",
     "output_type": "stream",
     "text": [
      "0.4009703374396949\n",
      "0.40097033743969507\n"
     ]
    }
   ],
   "source": [
    "def AnalUI(S,H,K,r,T,sigma):\n",
    "    nu=r-0.5*sigma**2\n",
    "    U=(((H/S)**(2*nu/(sigma**2)))*(put_price((H**2/S),K,r,sigma,T)\n",
    "    -put_price((H**2/S),H,r,sigma,T)+(H-K)*exp(-r*T)*norm.cdf(-d_j(1, H, S, r, sigma, T)))\n",
    "    +call_price(S,H,r,sigma,T)+(H-K)*exp(-r*T)*norm.cdf(d_j(1, S, H, r, sigma, T)))\n",
    "    return U\n",
    "    \n",
    "print(AnalUI(S,H,K,r,T,sigma))          "
   ]
  },
  {
   "cell_type": "markdown",
   "metadata": {},
   "source": [
    "The price can also be calculated using the put-call parity"
   ]
  },
  {
   "cell_type": "code",
   "execution_count": 18,
   "metadata": {},
   "outputs": [
    {
     "name": "stdout",
     "output_type": "stream",
     "text": [
      "0.40097033743969507\n"
     ]
    }
   ],
   "source": [
    "print(call_price(S,K,r,sigma,T)-AnalUO(S,H,K,r,T,sigma))"
   ]
  },
  {
   "cell_type": "markdown",
   "metadata": {},
   "source": [
    "### American Up-and-In Put"
   ]
  },
  {
   "cell_type": "code",
   "execution_count": 19,
   "metadata": {},
   "outputs": [
    {
     "name": "stdout",
     "output_type": "stream",
     "text": [
      "0.4227416365560542\n"
     ]
    }
   ],
   "source": [
    "def AUIPBarrier(K,T,S,sigma,r,N, H):\n",
    "    #Coefficients\n",
    "    dt=T/N\n",
    "    nu=r-0.5*sigma**2\n",
    "    dxu=sqrt((sigma**2)*dt+(nu*dt)**2)\n",
    "    dxd=-dxu\n",
    "    pu=0.5+0.5*(nu*dt/dxu)\n",
    "    pd=1-pu\n",
    "    #Precompute constants\n",
    "    disc=exp(-r*dt)\n",
    "    edxud=exp(dxu-dxd)\n",
    "    edxd=exp(dxd)\n",
    "\n",
    "    StA=[0]*(N+1)\n",
    "\n",
    "    CA=[0]*(N+1)\n",
    "    #asset prices at maturity N:\n",
    "    StA[0]=S*exp(N*dxd)\n",
    "    for j in range(1,N+1):\n",
    "        StA[j]=StA[j-1]*edxud\n",
    "    #initilise option values at maturity:\n",
    "    j2=[i for i in StA if i <H]    \n",
    "    if len(j2)==len(StA):\n",
    "        return 0\n",
    "        #CA[0]=0\n",
    "        #return CA[0]\n",
    "    else:\n",
    "        for j in range(1,N+1):\n",
    "            CA[j]=max(0,K-StA[j])\n",
    "#    for j in range(1,N+1):\n",
    "#        CA[j]=max(0,K-StA[j])\n",
    "        \n",
    "    #Stepping Back   \n",
    "    for i in range(N,0,-1):\n",
    "        for j in range(0,i):\n",
    "            CA[j]=disc*(pu*CA[j+1]+pd*CA[j])\n",
    "            StA[j]=StA[j]/edxd\n",
    "            CA[j]=max(CA[j],K-StA[j])\n",
    "\n",
    "    return CA[0]\n",
    "N=200\n",
    "print(AUIPBarrier(K,T,S,sigma,r,N, H))"
   ]
  },
  {
   "cell_type": "code",
   "execution_count": null,
   "metadata": {},
   "outputs": [],
   "source": []
  }
 ],
 "metadata": {
  "kernelspec": {
   "display_name": "Python 3",
   "language": "python",
   "name": "python3"
  },
  "language_info": {
   "codemirror_mode": {
    "name": "ipython",
    "version": 3
   },
   "file_extension": ".py",
   "mimetype": "text/x-python",
   "name": "python",
   "nbconvert_exporter": "python",
   "pygments_lexer": "ipython3",
   "version": "3.6.7"
  }
 },
 "nbformat": 4,
 "nbformat_minor": 2
}
