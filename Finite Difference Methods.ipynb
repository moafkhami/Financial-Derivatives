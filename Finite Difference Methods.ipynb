{
 "cells": [
  {
   "cell_type": "code",
   "execution_count": 10,
   "metadata": {},
   "outputs": [],
   "source": [
    "import sys\n",
    "import numpy as np\n",
    "from math import exp , sqrt , log , pi\n",
    "import scipy.linalg as linalg\n",
    "from scipy.stats import norm\n",
    "import matplotlib . pyplot as plt"
   ]
  },
  {
   "cell_type": "markdown",
   "metadata": {},
   "source": [
    "# Explicit and Implicit Finite Difference"
   ]
  },
  {
   "cell_type": "markdown",
   "metadata": {},
   "source": [
    "The code below implements both the Explicit and Implicit Finite Difference methods to price European Call and Put options."
   ]
  },
  {
   "cell_type": "code",
   "execution_count": 12,
   "metadata": {},
   "outputs": [
    {
     "name": "stdout",
     "output_type": "stream",
     "text": [
      "8.344696829578778\n",
      "8.336160485072119\n"
     ]
    }
   ],
   "source": [
    "class Finite(object):\n",
    "    def __init__(self, S,K,r,T,sigma,Smax,M,N, call):\n",
    "        self.S=S\n",
    "        self.K=K\n",
    "        self.r=r\n",
    "        self.T=T\n",
    "        self.sigma=sigma\n",
    "        self.Smax=Smax\n",
    "        #self.dS=dS\n",
    "        self.M, self.N= int(M), int(N)\n",
    "        self.call=call\n",
    "        \n",
    "        self.dS=Smax/float(self.M)\n",
    "        #self.Smax=dS*float(self.M)\n",
    "        self.dt=T/float(self.N)\n",
    "        self.i_values=np.arange(self.M)\n",
    "        self.j_values=np.arange(self.N)\n",
    "        self.grid=np.zeros(shape=(self.M+1, self.N+1))\n",
    "        self.boundary=np.linspace(0,self.Smax,self.M+1)\n",
    "    def _setup_boundary_conditions_(self):\n",
    "        pass\n",
    "    def _setup_coefficients_(self):\n",
    "        pass\n",
    "    def _traverse_grid_(self):\n",
    "        #Iterate grid backward in time\n",
    "        pass\n",
    "    def _interpolate_(self):\n",
    "        #get closest price at S0 with using piecewise linear \n",
    "        #interpolation on the initial grid column\n",
    "        return np.interp(self.S,self.boundary,self.grid[:,0])\n",
    "    def price(self):\n",
    "        self._setup_boundary_conditions_()\n",
    "        self._setup_coefficients_()\n",
    "        self._traverse_grid_()\n",
    "        return self._interpolate_()\n",
    "\n",
    "class ExplicitEU(Finite):\n",
    "    def _setup_boundary_conditions_(self):\n",
    "        if self.call:\n",
    "            self.grid[:,-1]=np.maximum(self.boundary-self.K,0)\n",
    "            self.grid[-1,:-1]=(self.Smax-self.K)* \\\n",
    "                              np.exp(-self.r*self.dt*\n",
    "                                     (self.N-self.j_values))\n",
    "        else:\n",
    "            self.grid[:,-1]= \\\n",
    "                np.maximum(self.K-self.boundary,0)\n",
    "            self.grid[0,:-1]=(self.K-self.Smax) * \\\n",
    "                             np.exp(-self.r *\n",
    "                                    self.dt *\n",
    "                                    (self.N-self.j_values))\n",
    "                             \n",
    "    def _setup_coefficients_(self):\n",
    "        self.a=0.5*self.dt*((self.sigma**2) *\n",
    "                            (self.i_values**2) - \n",
    "                            self.r*self.i_values)\n",
    "        self.b=1-self.dt*((self.sigma**2) *\n",
    "                          (self.i_values**2) +\n",
    "                          self.r)\n",
    "        self.c=0.5*self.dt*((self.sigma**2) *\n",
    "                            (self.i_values**2) +\n",
    "                            self.r*self.i_values)\n",
    "    \n",
    "    def _traverse_grid_(self):\n",
    "        for j in reversed(self.j_values):\n",
    "            for i in range(self.M)[2:]:\n",
    "                self.grid[i,j]=self.a[i]*self.grid[i-1,j+1] + \\\n",
    "                               self.b[i]*self.grid[i,j+1] + \\\n",
    "                               self.c[i]*self.grid[i+1,j+1]\n",
    "                        \n",
    "\n",
    "class ImplicitEU(ExplicitEU):\n",
    "    def _setup_coefficients_(self):\n",
    "        self.a=0.5*(self.r*self.dt*self.i_values-\n",
    "                    (self.sigma**2)*self.dt*(self.i_values**2))\n",
    "        self.b=1 + \\\n",
    "               (self.sigma**2)*self.dt*(self.i_values**2) + \\\n",
    "               self.r*self.dt\n",
    "        self.c=-0.5*(self.r*self.dt*self.i_values+\n",
    "                     (self.sigma**2)*self.dt*(self.i_values**2))\n",
    "        self.coeffs= (np.diag(self.a[2:self.M],-1) + \\\n",
    "                     np.diag(self.b[1:self.M]) +\n",
    "                     np.diag(self.c[1:self.M-1],1))\n",
    "\n",
    "    def _traverse_grid_(self):\n",
    "       P, L, U=linalg.lu(self.coeffs)\n",
    "       aux=np.zeros(self.M-1)                        \n",
    "\n",
    "       \n",
    "       for j in reversed(range(self.N)):\n",
    "           aux[0]=np.dot(-self.a[1], self.grid[0,j])\n",
    "           x1=linalg.solve(L,self.grid[1:self.M, j+1]+aux)\n",
    "           x2=linalg.solve(U,x1)\n",
    "           self.grid[1:self.M, j]=x2\n",
    "       \n",
    "                       \n",
    "           \n",
    "option=ExplicitEU(100,100,0.03,1,0.25,150,30,313, False)\n",
    "print(option.price())                      \n",
    "#                              \n",
    "option=ImplicitEU(100,100,0.03,1,0.25,150,30,313, False)        \n",
    "print(option.price()) \n"
   ]
  },
  {
   "cell_type": "markdown",
   "metadata": {},
   "source": [
    "## Alternative solution"
   ]
  },
  {
   "cell_type": "markdown",
   "metadata": {},
   "source": [
    "The script below is a more simple approach to implementing the Explicit and Implicit Finite Difference methods for pricing European Call and Put options.\n",
    "\n",
    "It also calculates some of the *Greeks* (Delta, gamma, theta, vega). "
   ]
  },
  {
   "cell_type": "code",
   "execution_count": 5,
   "metadata": {},
   "outputs": [
    {
     "name": "stdout",
     "output_type": "stream",
     "text": [
      "(11.011918739913476, 0.5792139969717195, 0.015032450205724234, -5.777066060407119)\n"
     ]
    }
   ],
   "source": [
    "def e_explicit(K,T,S,sigma,r,q,N,M,dx,call):\n",
    "    dt=T/N\n",
    "    nu=r-q-0.5*sigma**2\n",
    "    edx=exp(dx)\n",
    "    pu=0.5*dt*((sigma/dx)**2+nu/dx)\n",
    "    pm=1-dt*(sigma/dx)**2-r*dt\n",
    "    pd=0.5*dt*((sigma/dx)**2-nu/dx)\n",
    "    St=[0]*(2*M+1)\n",
    "    C=[[0 for j in range(2*M+1)] for i in range(N+1)]\n",
    "    #Initialise asset prices at maturity\n",
    "    St[0]=S*exp(-M*dx)\n",
    "    for j in range(1, 2*M+1):\n",
    "        St[j]=St[j-1]*edx\n",
    "    #Option Values at maturity\n",
    "    for j in range(0, 2*M+1):\n",
    "        if call==True:\n",
    "            C[N][j]=max(0,St[j]-K)\n",
    "        elif call==False:\n",
    "            C[N][j]=max(0,K-St[j])\n",
    "    #Stepping back in time:\n",
    "    for i in range(N-1,-1,-1):\n",
    "        for j in range(1, 2*M):\n",
    "            C[i][j]=pu*C[i+1][j+1]+pm*C[i+1][j]+pd*C[i+1][j-1]\n",
    "#    #Boundary conditions:\n",
    "        if call==True:\n",
    "           C[i][0]=C[i][1]\n",
    "           C[i][2*M]=C[i][2*M-1]+(St[2*M]-St[2*M-1])\n",
    "        elif call==False:\n",
    "            C[i][0]=C[i][1]+(St[1]-St[0])\n",
    "            C[i][2*M]=C[i][2*M-1]\n",
    "            \n",
    "    delta= (C[0][M+1]-C[0][M-1])/(St[M+1]-St[M-1])\n",
    "    gamma= (((C[0][M+1]-C[0][M])/(St[M+1]-St[M]))-\n",
    "              ((C[0][M]-C[0][M-1])/(St[M]-St[M-1]))) /(0.5*(St[M+1]-St[M-1]))\n",
    "    theta= (C[1][M]-C[0][M])/dt\n",
    "    return C[0][M], delta, gamma, theta\n",
    "print(e_explicit(100,1,100,0.25,0.06,0.03,1190,60,0.012,True))   "
   ]
  },
  {
   "cell_type": "code",
   "execution_count": 6,
   "metadata": {},
   "outputs": [],
   "source": [
    "def Vega(sigma):\n",
    "    delt=0.0001\n",
    "    vega=((e_explicit(100,1,100,sigma+delt,0.06,0.03,600,300,0.02,False)[0]-\n",
    "      e_explicit(100,1,100,sigma-delt,0.06,0.03,600,300,0.02,False)[0])/(200*delt))\n",
    "    return vega"
   ]
  },
  {
   "cell_type": "markdown",
   "metadata": {},
   "source": [
    "The code below implements the Implicit Finite Difference method to price both European Call and Put options."
   ]
  },
  {
   "cell_type": "code",
   "execution_count": 11,
   "metadata": {},
   "outputs": [
    {
     "name": "stdout",
     "output_type": "stream",
     "text": [
      "12\n"
     ]
    }
   ],
   "source": [
    "def e_implicit(K,T,S,sigma,r,q,N,M,dx,call):\n",
    "   dt=T/N\n",
    "   nu=r-q-0.5*sigma**2\n",
    "   edx=exp(dx)\n",
    "   pu=-0.5*dt*((sigma/dx)**2+nu/dx)\n",
    "   pm=1+dt*(sigma/dx)**2+r*dt\n",
    "   pd=-0.5*dt*((sigma/dx)**2-nu/dx)\n",
    "   #initialise asset prices at maturity:\n",
    "   St=[0]*(2*M+1)\n",
    "   #C=[[0 for j in range(2*M+1)] for i in range(N+1)]\n",
    "   C=np.zeros(shape=(N+1, 2*M+1))\n",
    "   St[0]=S*exp(-M*dx)\n",
    "   #C=np.zeros(shape=(N+1, 2*M+1))\n",
    "   for j in range(1, 2*M+1):\n",
    "       St[j]=St[j-1]*edx\n",
    "   #Option Values at maturity:\n",
    "   for j in range(0, 2*M+1):\n",
    "       if call==True:\n",
    "           C[N,j]=max(0,St[j]-K)\n",
    "       elif call==False:\n",
    "           C[N,j]=max(0,K-St[j])\n",
    "#    #Boundary conditions:\n",
    "#    for i in range(N-1,-1,-1):\n",
    "#        if call==True:\n",
    "#           C[i,0]=C[i,1]\n",
    "#           #d=[St[2*M]-St[2*M-1], C[i+1]]\n",
    "#           C[i,2]=C[i+1,1]-pm*C[i,1]\n",
    "#           C[i][2*M]=C[i][2*M-1]+(St[2*M]-St[2*M-1])\n",
    "#        elif call==False:\n",
    "#            C[i][0]=C[i][1]+(St[1]-St[0])\n",
    "#            C[i][2*M]=C[i][2*M-1]\n",
    "\n",
    "   d=np.insert(C[:,N+1], 0, (St[2*M]-St[2*M-1]))\n",
    "   d=np.append(d,1)\n",
    "\n",
    "   c=[pu]*(2*M-1)\n",
    "   c=np.insert(c,0,-1)\n",
    "   b=[pm]*(2*M-1)\n",
    "   b=np.insert(b,0,1)\n",
    "   b=np.append(b,-1)\n",
    "   a=[pd]*(2*M-1)\n",
    "   a=np.append(a,1)\n",
    "\n",
    "   return len(a)\n",
    "\n",
    "print(e_implicit(100,1,100,0.2,0.03,0.0,3,6,0.2,True))    \n"
   ]
  },
  {
   "cell_type": "markdown",
   "metadata": {},
   "source": [
    "# Crank-Nicolson Finite Difference method"
   ]
  },
  {
   "cell_type": "markdown",
   "metadata": {},
   "source": [
    "The script below can be used to price European Call and Put options using the Crank-Nicolson method."
   ]
  },
  {
   "cell_type": "code",
   "execution_count": 13,
   "metadata": {},
   "outputs": [
    {
     "name": "stdout",
     "output_type": "stream",
     "text": [
      "8.384101905803645\n"
     ]
    }
   ],
   "source": [
    "class CrankEU(ExplicitEU):\n",
    "\n",
    "    def _setup_coefficients_(self):\n",
    "        self.alpha = 0.25*self.dt*(\n",
    "            (self.sigma**2)*(self.i_values**2) -\n",
    "            self.r*self.i_values)\n",
    "        self.beta = -self.dt*0.5*(\n",
    "            (self.sigma**2)*(self.i_values**2) +\n",
    "            self.r)\n",
    "        self.gamma = 0.25*self.dt*(\n",
    "            (self.sigma**2)*(self.i_values**2) +\n",
    "            self.r*self.i_values)\n",
    "        self.M1 = -np.diag(self.alpha[2:self.M], -1) + \\\n",
    "                  np.diag(1-self.beta[1:self.M]) - \\\n",
    "                  np.diag(self.gamma[1:self.M-1], 1)\n",
    "        self.M2 = np.diag(self.alpha[2:self.M], -1) + \\\n",
    "                  np.diag(1+self.beta[1:self.M]) + \\\n",
    "                  np.diag(self.gamma[1:self.M-1], 1)\n",
    "\n",
    "    def _traverse_grid_(self):\n",
    "        \"\"\" Solve using linear systems of equations \"\"\"\n",
    "        P, L, U = linalg.lu(self.M1)\n",
    "\n",
    "        for j in reversed(range(self.N)):\n",
    "            x1 = linalg.solve(L,\n",
    "                              np.dot(self.M2,\n",
    "                                     self.grid[1:self.M, j+1]))\n",
    "            x2 = linalg.solve(U, x1)\n",
    "            self.grid[1:self.M, j] = x2\n",
    "\n",
    "option=CrankEU(100,100,0.03,1,0.25,150,90,60, False)        \n",
    "print(option.price())\n"
   ]
  }
 ],
 "metadata": {
  "kernelspec": {
   "display_name": "Python 3",
   "language": "python",
   "name": "python3"
  },
  "language_info": {
   "codemirror_mode": {
    "name": "ipython",
    "version": 3
   },
   "file_extension": ".py",
   "mimetype": "text/x-python",
   "name": "python",
   "nbconvert_exporter": "python",
   "pygments_lexer": "ipython3",
   "version": "3.6.7"
  }
 },
 "nbformat": 4,
 "nbformat_minor": 2
}
