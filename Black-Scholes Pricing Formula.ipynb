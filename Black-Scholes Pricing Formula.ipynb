{
 "cells": [
  {
   "cell_type": "markdown",
   "metadata": {},
   "source": [
    "# Black–Scholes–Merton Pricing Formula"
   ]
  },
  {
   "cell_type": "code",
   "execution_count": 4,
   "metadata": {},
   "outputs": [],
   "source": [
    "from numpy import pi, exp, log\n",
    "from scipy.stats import norm"
   ]
  },
  {
   "cell_type": "markdown",
   "metadata": {},
   "source": [
    "### Price of a European Call and Put Option"
   ]
  },
  {
   "cell_type": "markdown",
   "metadata": {},
   "source": [
    "The standard normal probability density function"
   ]
  },
  {
   "cell_type": "code",
   "execution_count": 5,
   "metadata": {},
   "outputs": [],
   "source": [
    "def norm_pdf(x):\n",
    "    return (1/((2*pi)**0.5))*exp(-0.5*x*x)"
   ]
  },
  {
   "cell_type": "markdown",
   "metadata": {},
   "source": [
    "Next, we need to define:"
   ]
  },
  {
   "cell_type": "markdown",
   "metadata": {},
   "source": [
    "$d_j = \\frac{\\log(\\frac{S}{K})+(r+(-1)^{j-1} \\frac{\\sigma^2T}{2})}{\\sigma \\sqrt{T}}$"
   ]
  },
  {
   "cell_type": "code",
   "execution_count": 6,
   "metadata": {},
   "outputs": [],
   "source": [
    "def d_j(j, S, K, r, v, T):\n",
    "    return (log(S/K) + (r + ((-1)**(j-1))*0.5*v*v)*T)/(v*(T**0.5))"
   ]
  },
  {
   "cell_type": "markdown",
   "metadata": {},
   "source": [
    "Price of a European call option struck at K, with spot S, constant rate r,\n",
    "constant vol v (over the life of the option) and time to maturity T:"
   ]
  },
  {
   "cell_type": "code",
   "execution_count": 7,
   "metadata": {},
   "outputs": [],
   "source": [
    "def call_price(S, K, r, v, T):\n",
    "    return S*norm.cdf(d_j(1, S, K, r, v, T))-K*exp(-r*T) * norm.cdf(d_j(2, S, K, r, v, T))"
   ]
  },
  {
   "cell_type": "markdown",
   "metadata": {},
   "source": [
    "Price of a European put option struck at K, with spot S, constant rate r, constant vol v \n",
    "(over the life of the option) and time to maturity T:"
   ]
  },
  {
   "cell_type": "code",
   "execution_count": 9,
   "metadata": {},
   "outputs": [],
   "source": [
    "def put_price(S, K, r, v, T):\n",
    "    return -S*norm.cdf(-d_j(1, S, K, r, v, T))+K*exp(-r*T) * norm.cdf(-d_j(2, S, K, r, v, T))"
   ]
  },
  {
   "cell_type": "markdown",
   "metadata": {},
   "source": [
    "put-call parity wih risk free interest rate:"
   ]
  },
  {
   "cell_type": "code",
   "execution_count": 31,
   "metadata": {},
   "outputs": [],
   "source": [
    "def parity(S, K, r, T):\n",
    "    return S-K*exp(-r*T)"
   ]
  },
  {
   "cell_type": "markdown",
   "metadata": {},
   "source": [
    "### Examples"
   ]
  },
  {
   "cell_type": "markdown",
   "metadata": {},
   "source": [
    "Calculate both the price of a call and a put for: $S_0$ = K = 100, time to expiry 1 month, i.e., $\\tau$ = 30/252, r = 5%, and $\\sigma$ = 20%"
   ]
  },
  {
   "cell_type": "code",
   "execution_count": 22,
   "metadata": {},
   "outputs": [
    {
     "name": "stdout",
     "output_type": "stream",
     "text": [
      "The price of Put option is 2.46\n",
      "The price of Call option is 3.05\n"
     ]
    }
   ],
   "source": [
    "put = put_price(100, 100, 0.05, 0.2, 30/252)\n",
    "call = call_price(100, 100, 0.05, 0.2, 30/252)\n",
    "print(\"The price of Put option is %s\" %(round(put, 2)))\n",
    "print(\"The price of Call option is %s\" %(round(call, 2)))"
   ]
  },
  {
   "cell_type": "markdown",
   "metadata": {},
   "source": [
    "Check that the Put-Call parity relation holds in the above example."
   ]
  },
  {
   "cell_type": "code",
   "execution_count": 34,
   "metadata": {},
   "outputs": [
    {
     "name": "stdout",
     "output_type": "stream",
     "text": [
      "Put-Call parity holds.\n"
     ]
    }
   ],
   "source": [
    "eps = 1e-7\n",
    "par = parity(100, 100, 0.05,30)\n",
    "if ((call-put)-par) < eps:\n",
    "    print('Put-Call parity holds.')\n",
    "else:\n",
    "    print('Put-Call parity does not hold.')"
   ]
  },
  {
   "cell_type": "markdown",
   "metadata": {},
   "source": [
    "## Implied Volatility"
   ]
  },
  {
   "cell_type": "markdown",
   "metadata": {},
   "source": [
    "The implied volatility is, by definition, the value of $\\sigma$ for which the function $$f(\\sigma)= C_{BSM}(S_0,K,T,r;\\sigma)−C_M(K,T)$$\n",
    "is zero. Here, $C_M (K, T)$ and $C_{BSM} (S_0, K, T ; \\sigma)$ are the market price of an European Call Option and the Black–Scholes–Merton price, respectively."
   ]
  },
  {
   "cell_type": "markdown",
   "metadata": {},
   "source": [
    "Assuming we have option price data (downloadable from Bloomerg terminal or Yahoo! Finance), we can calculate the implied volatiltiy of an option using tools such as the bisection or the Secant method."
   ]
  },
  {
   "cell_type": "markdown",
   "metadata": {},
   "source": [
    "### Bisection method"
   ]
  },
  {
   "cell_type": "code",
   "execution_count": 39,
   "metadata": {},
   "outputs": [],
   "source": [
    "def bisection(f, a, b, TOL=0.0001):    \n",
    "    c = (a+b)/2.0\n",
    "    while abs(b-a)/2>TOL:\n",
    "        if f(c)==0:\n",
    "            return (c)\n",
    "        elif f(c)*f(a) < 0:\n",
    "            b = c\n",
    "        else: a = c\n",
    "        c = (a+b) / 2.0\n",
    "    return (c)      "
   ]
  },
  {
   "cell_type": "markdown",
   "metadata": {},
   "source": [
    "### Secant method"
   ]
  },
  {
   "cell_type": "code",
   "execution_count": 40,
   "metadata": {},
   "outputs": [],
   "source": [
    "def secant(f,a,b,TOL=0.0001):\n",
    "    for i in range(1000):    \n",
    "        if f(b)-f(a) < TOL:\n",
    "            return b\n",
    "        x_temp = b - (f(b)*(b-a)*1.0)/(f(b)-f(a))\n",
    "        a = b\n",
    "        b = x_temp\n",
    "    return b"
   ]
  },
  {
   "cell_type": "markdown",
   "metadata": {},
   "source": [
    "We also need to obtain the spot price of the stock and the market risk-free interest rate, and define the function. An example is provided below"
   ]
  },
  {
   "cell_type": "code",
   "execution_count": 41,
   "metadata": {},
   "outputs": [],
   "source": [
    "S_Amzn=840.35\n",
    "r_fed=0.0051\n",
    "def f(v):\n",
    "    return call_price(S_Amzn,K_Amzn,r_fed,v,time)-price"
   ]
  },
  {
   "cell_type": "markdown",
   "metadata": {},
   "source": [
    "You can load the option prices and save the implied volatilities as a pandas dataframe. If you obtain the data for stocks with different strike prices, you can plot the volatility smile."
   ]
  },
  {
   "cell_type": "markdown",
   "metadata": {},
   "source": [
    "## Greeks"
   ]
  },
  {
   "cell_type": "markdown",
   "metadata": {},
   "source": [
    "Calculating the derivatives using the BSM formula is straightforward. Here we calculate the derivative of the call option price with respect to S (Delta), and $\\sigma$ (Vega) and the second derivative with respect to S (Gamma)"
   ]
  },
  {
   "cell_type": "code",
   "execution_count": 45,
   "metadata": {},
   "outputs": [],
   "source": [
    "def delta(S,K,r,v,T):\n",
    "    return norm.cdf(d_j(1, S, K, r, v, T))\n",
    "\n",
    "\n",
    "def vega(S,K,r,v,T):\n",
    "    return S*norm_pdf(d_j(1, S, K, r, v, T))*sqrt(T)\n",
    "\n",
    "\n",
    "def gamma(S,K,r,v,T):\n",
    "    return norm_pdf(d_j(1, S, K, r, v, T))/(S*v*sqrt(T))"
   ]
  },
  {
   "cell_type": "code",
   "execution_count": null,
   "metadata": {},
   "outputs": [],
   "source": []
  }
 ],
 "metadata": {
  "kernelspec": {
   "display_name": "Python 3",
   "language": "python",
   "name": "python3"
  },
  "language_info": {
   "codemirror_mode": {
    "name": "ipython",
    "version": 3
   },
   "file_extension": ".py",
   "mimetype": "text/x-python",
   "name": "python",
   "nbconvert_exporter": "python",
   "pygments_lexer": "ipython3",
   "version": "3.6.7"
  }
 },
 "nbformat": 4,
 "nbformat_minor": 2
}
