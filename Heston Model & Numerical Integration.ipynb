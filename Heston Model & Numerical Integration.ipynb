{
 "cells": [
  {
   "cell_type": "code",
   "execution_count": 35,
   "metadata": {},
   "outputs": [],
   "source": [
    "from numpy import sin, exp, pi, log\n",
    "import matplotlib.pyplot as plt\n",
    "import cmath\n",
    "%matplotlib inline"
   ]
  },
  {
   "cell_type": "markdown",
   "metadata": {},
   "source": [
    "# Numerical Integration"
   ]
  },
  {
   "cell_type": "markdown",
   "metadata": {},
   "source": [
    "Let us implement the trapezoidal and the Simpson’s quadrature rules to numerically compute an integral."
   ]
  },
  {
   "cell_type": "markdown",
   "metadata": {},
   "source": [
    "### Trapezoidal"
   ]
  },
  {
   "cell_type": "code",
   "execution_count": 1,
   "metadata": {},
   "outputs": [],
   "source": [
    "def trapezoidal (f,a, b, n):\n",
    "    h = (b - a)/float(n)\n",
    "    s = 0.5 * (f(a) + f(b))\n",
    "    for i in range(1, n):\n",
    "        s = s + f(a + i * h)\n",
    "    return h*s  "
   ]
  },
  {
   "cell_type": "markdown",
   "metadata": {},
   "source": [
    "### Simpson’s quadrature"
   ]
  },
  {
   "cell_type": "code",
   "execution_count": 2,
   "metadata": {},
   "outputs": [],
   "source": [
    "def simpson(f,a,b,n):\n",
    "    h = (b - a)/float(n)\n",
    "    s0 = f(a) + f(b)\n",
    "    s1 = 0\n",
    "    for i in range(1, n//2-1):\n",
    "        s1 = s1 + f(a + 2*i*h)\n",
    "    s2 = 0\n",
    "    for i in range(1, n//2):\n",
    "        s2 = s2 + f(a + (2*i - 1)*h)\n",
    "    s = h/3*(s0 + 4*s1 + 2*s2)\n",
    "    return s"
   ]
  },
  {
   "cell_type": "markdown",
   "metadata": {},
   "source": [
    "### Definitive Example"
   ]
  },
  {
   "cell_type": "markdown",
   "metadata": {},
   "source": [
    "Consider the following function for which we have $\\int_{-\\infty}^{\\infty} g(x)dx=\\pi$.\n",
    "<!---\n",
    "\\begin{equation}\n",
    "\\begin{equation}\n",
    "f(x)=\n",
    "\\begin{cases}\n",
    "\\frac{sin(x)}{x}, & \\text{if} \\, x \\neq 0\\\\\n",
    "1, & \\text{if} \\, x=0\n",
    "\\end{cases}\n",
    "\\end{equation}\n",
    "--->\n",
    "\\begin{gather*}\n",
    "    g(x) =\n",
    "    \\begin{cases}\n",
    "        \\frac{\\sin{(x)}}{x}, & \\quad \\text{for} \\, x \\neq 0, \\\\\n",
    "        1, & \\quad \\text{for} \\, x = 0.\n",
    "    \\end{cases}\n",
    "\\end{gather*}"
   ]
  },
  {
   "cell_type": "code",
   "execution_count": 3,
   "metadata": {},
   "outputs": [],
   "source": [
    "def g(x):\n",
    "    if x==0:\n",
    "        return 1\n",
    "    else:\n",
    "        return (sin (x))/x    "
   ]
  },
  {
   "cell_type": "markdown",
   "metadata": {},
   "source": [
    "We can calculate this definitive integral using the approximation methods above. Note that to approximate an indefinite integral we can use a large interval $[-a, a]$ and equidistant nodes $\\{ x_n\\}_{n=0}^N, x_n=-a+n\\frac{2a}{N}$"
   ]
  },
  {
   "cell_type": "code",
   "execution_count": 13,
   "metadata": {},
   "outputs": [
    {
     "name": "stdout",
     "output_type": "stream",
     "text": [
      "3.1415914506276046\n",
      "3.141591330845387\n"
     ]
    }
   ],
   "source": [
    "Trap = trapezoidal(g, -1e6, 1e6, 1000000)\n",
    "print(Trap)\n",
    "Simp = simpson(g, -1e6, 1e6, 1000000)\n",
    "print(Simp)"
   ]
  },
  {
   "cell_type": "markdown",
   "metadata": {},
   "source": [
    "We can also  ompute the truncation error for the numerical algorithms implemented above for a particular $a \\in \\mathbb{R}$ and $N \\in \\mathbb{N}$. we can create a function of a and N that will output $I_{N,a} − \\pi$, where $I_{N,a}$ is the numerical approximation of the integral, and $\\pi$ is the definite solution.\n"
   ]
  },
  {
   "cell_type": "code",
   "execution_count": 23,
   "metadata": {},
   "outputs": [
    {
     "name": "stdout",
     "output_type": "stream",
     "text": [
      "[0.17510543617885466, 0.017139017922872313, 0.017139017922872313, 0.0001919267752592546, 1.8368995189810278e-05, 1.3227444060071036e-06]\n",
      "[133329.71786241827, 26665.82669432002, 26665.82669432002, 261.79936882456275, 25.13274674472889, 1.3227444060071036e-06]\n"
     ]
    }
   ],
   "source": [
    "trunc_t_a = []\n",
    "trunc_t_n = []\n",
    "trunc_s_a = []\n",
    "trunc_s_n = []\n",
    "def trunc(a,n):\n",
    "    trunc_t= abs(trapezoidal(g, -a, a, n) - pi)\n",
    "    trunc_s= abs(simpson(g, -a, a, n) - pi)\n",
    "    return trunc_t, trunc_s\n",
    "\n",
    "size=[10,100,100,10000,100000,1000000]\n",
    "              \n",
    "for i in size:\n",
    "    tr = trunc(1000000,i)\n",
    "    trunc_t_n.append(tr[0])\n",
    "    trunc_s_n.append(tr[1])\n",
    "\n",
    "for i in size:\n",
    "    tr = trunc(i,1000000)\n",
    "    trunc_t_a.append(tr[0])\n",
    "    trunc_s_a.append(tr[1])\n",
    "\n",
    "print(trunc_s_a)\n",
    "print(trunc_s_n)"
   ]
  },
  {
   "cell_type": "markdown",
   "metadata": {},
   "source": [
    "We can also plot the changes in the approximation as N and a increase as well as the difference between the two quadrature approximations."
   ]
  },
  {
   "cell_type": "code",
   "execution_count": 22,
   "metadata": {},
   "outputs": [
    {
     "data": {
      "image/png": "[encoded data removed]",
      "text/plain": [
       "<Figure size 432x288 with 2 Axes>"
      ]
     },
     "metadata": {
      "needs_background": "light"
     },
     "output_type": "display_data"
    }
   ],
   "source": [
    "sizen=[1, 2 , 3, 4, 5, 6]\n",
    "plt.subplot(1,2,1)\n",
    "plt.plot(sizen, trunc_t_a, marker=\"o\")\n",
    "plt.xlabel('log a')\n",
    "plt.ylabel('Trunctation Error')\n",
    "plt.legend('Trapezoidal method')\n",
    "\n",
    "plt.subplot(1,2,2)\n",
    "plt.plot(sizen, trunc_t_n, marker=\"o\")\n",
    "plt.xlabel('log n')\n",
    "plt.ylabel('Truncation Error')\n",
    "plt.legend('Simpsons method') \n",
    "plt.savefig('difference.pdf', bbox_inches='tight')"
   ]
  },
  {
   "cell_type": "markdown",
   "metadata": {},
   "source": [
    "### Other Cases"
   ]
  },
  {
   "cell_type": "markdown",
   "metadata": {},
   "source": [
    "What if we do not know the true value of the integral? to ensure the convergence of the numerical algorithms we pick a small tolerance value $\\epsilon$ and we check at every iteration $k = 1,2,...$ if $|I_k-I_{k-1}| < \\epsilon$ holds"
   ]
  },
  {
   "cell_type": "code",
   "execution_count": 24,
   "metadata": {},
   "outputs": [
    {
     "name": "stdout",
     "output_type": "stream",
     "text": [
      "(21, 3.1415913857872506)\n",
      "(22, 3.1415928924752854)\n"
     ]
    }
   ],
   "source": [
    "\"\"\"Define iterative trapezoidal\"\"\"\n",
    "def trap(f,a,b,ep):\n",
    "    n=1\n",
    "    s0=0\n",
    "    s1=1\n",
    "    counter=0\n",
    "    \n",
    "    while abs(s1-s0) > ep:\n",
    "        s0=s1\n",
    "        s1=0\n",
    "        h=(b-a)/n\n",
    "        s1=0.5*(f(a)+f(b))*h\n",
    "        for i in range (1,int(n)):\n",
    "            s1=s1+h*f(a+i*h)\n",
    "        counter = counter+1\n",
    "        n=2*n\n",
    "    return counter, s1\n",
    "\n",
    "def trap2(f,a,b,ep):\n",
    "    n=1\n",
    "    s0=0\n",
    "    s1=1\n",
    "    counter=0\n",
    "    \n",
    "    while abs(s1-s0) > ep:\n",
    "        s0=s1\n",
    "        s1=0\n",
    "        h=(b-a)/n\n",
    "        s1=0.5*(f(a)+f(b))*h\n",
    "        for i in range (1,int(n)):\n",
    "            s1=s1+h*f(a+i*h)\n",
    "        counter = counter+1\n",
    "        n=2*n\n",
    "    return s1\n",
    "\n",
    "print(trap(g,-1e6,1e6,0.0001))\n",
    "\"\"\"Define iterative simpsons\"\"\"        \n",
    "def simp(f,a,b,ep):\n",
    "    n=1\n",
    "    s0=0\n",
    "    s1=1\n",
    "    counter=0\n",
    "    \n",
    "    while abs(s1-s0) > ep:\n",
    "        s0=s1\n",
    "        s1=0\n",
    "        h=(b-a)/n\n",
    "        s3=(f(a)+f(b))\n",
    "        s5=0\n",
    "        for i in range(1,n//2-1):\n",
    "            s5=s5+f(a+2*i*h)\n",
    "        s4=0\n",
    "        for i in range(1,n//2):\n",
    "            s4=s4+f(a+(2*i-1)*h)\n",
    "        s1=h/3*(s3+4*s5+2*s4)\n",
    "        counter=counter+1\n",
    "        n=2*n\n",
    "    return counter, s1\n",
    "\n",
    "def simp2(f,a,b,ep):\n",
    "    n=1\n",
    "    s0=0\n",
    "    s1=1\n",
    "    counter=0\n",
    "    \n",
    "    while abs(s1-s0) > ep:\n",
    "        s0 = s1\n",
    "        s1 = 0\n",
    "        h = (b-a)/n\n",
    "        s3 = (f(a)+f(b))\n",
    "        s5 = 0\n",
    "        for i in range(1,n//2-1):\n",
    "            s5 = s5 + f(a + 2*i*h)\n",
    "        s4 = 0\n",
    "        for i in range(1,n//2):\n",
    "            s4 = s4 + f(a + (2*i-1)*h)\n",
    "        s1 = h/3*(s3+4*s5+2*s4)\n",
    "        counter = counter + 1\n",
    "        n=2*n\n",
    "    return s1\n",
    "print(simp(g, -1e6, 1e6, 0.0001))"
   ]
  },
  {
   "cell_type": "markdown",
   "metadata": {},
   "source": [
    "As an example consider the following function: $$h(x)=1+ e^{-x} \\sin(8x^{2/3})$$\n",
    "We use the trapezoidal rule and Simpson’s rule to approximate $\\int_{0}^{2}h(x)dx$.\n",
    "\n",
    "$\\epsilon$ is set equal to $10^{-4}$."
   ]
  },
  {
   "cell_type": "code",
   "execution_count": 25,
   "metadata": {},
   "outputs": [
    {
     "name": "stdout",
     "output_type": "stream",
     "text": [
      "(17, 2.0161970009913657)\n",
      "(11, 2.0162420114326878)\n",
      "2.016279701339434\n",
      "2.0162255190029454\n"
     ]
    }
   ],
   "source": [
    "def h(x):\n",
    "    return 1 + exp(-x)*sin(8*(x**(2/3)))\n",
    "\n",
    "\n",
    "print(simp(h,0,2,0.0001))\n",
    "print(trap(h,0,2,0.0001))\n",
    "print(trapezoidal(h,0,2,100000))\n",
    "print(simpson(h,0,2,100000))\n"
   ]
  },
  {
   "cell_type": "markdown",
   "metadata": {},
   "source": [
    "# Heston Model"
   ]
  },
  {
   "cell_type": "markdown",
   "metadata": {},
   "source": [
    "We can use the above methods to calculate the price of options. Below is an example of the Heston Model. \n",
    "\n",
    "For details of the model see\n",
    "\n",
    "Mikhailov, Sergei and Nogel, Ulrich. “Heston’s stochastic volatility model: Implementation, calibration and some extensions” *Wilmott Journal*, 2004."
   ]
  },
  {
   "cell_type": "code",
   "execution_count": 28,
   "metadata": {},
   "outputs": [],
   "source": [
    "\n",
    "S=1\n",
    "T=5\n",
    "K=1\n",
    "v=0.1\n",
    "sigma=0.2\n",
    "rho=-0.3\n",
    "k=1\n",
    "theta=0.1\n",
    "r=0\n",
    "lambd=0\n",
    "u1=0.5\n",
    "u2=-0.5\n",
    "\n",
    "b1 =k +lambd-rho*sigma\n",
    "b2 =k +lambd\n",
    "\n",
    "a = k*theta\n",
    "\n",
    "def get_d(rho,sigma,phi,b1,b2,u1,u2):\n",
    "    \n",
    "    d1 = cmath.sqrt( (1j*rho*sigma*phi - b1)**2 - sigma**2*(1j*2*u1*phi - phi**2) )\n",
    "    d2 = cmath.sqrt( (1j*rho*sigma*phi - b2)**2 - sigma**2*(1j*2*u2*phi - phi**2) )\n",
    " \n",
    "    return([d1,d2])\n",
    "\n",
    "def get_g(rho,sigma,phi,b1,b2,u1,u2,d1,d2):\n",
    "\n",
    "    g1 = (b1 - 1j*rho*sigma*phi + d1)/(b1 - 1j*rho*sigma*phi - d1)\n",
    "    g2 = (b2 - 1j*rho*sigma*phi + d2)/(b2 - 1j*rho*sigma*phi - d2)\n",
    "    \n",
    "    return([g1,g2])\n",
    "\n",
    "def get_D(rho,sigma,phi, b1,b2,u1,u2,d1,d2,g1,g2):\n",
    "    T=5\n",
    "    D1 = (b1 - 1j*rho*sigma*phi + d1)/sigma**2*((1 - cmath.exp(d1*T))/(1 - g1*cmath.exp(d1*T)))\n",
    "    D2 = (b2 - 1j*rho*sigma*phi + d2)/sigma**2*((1 - cmath.exp(d2*T))/(1 - g2*cmath.exp(d2*T)))\n",
    "    \n",
    "    return([D1,D2])"
   ]
  },
  {
   "cell_type": "code",
   "execution_count": 29,
   "metadata": {},
   "outputs": [],
   "source": [
    "def get_C(r, phi, T, a,sigma,b1,b2,rho,d1,d2,g1,g2):\n",
    "    C1 = r*phi*1j*T + a/sigma**2 * ( (b1 - 1j*rho*sigma*phi + d1)*T - 2 * cmath.log((1 - g1*cmath.exp(d1*T))/(1-g1)))\n",
    "    C2 = r*phi*1j*T + a/sigma**2 * ( (b2 - 1j*rho*sigma*phi + d2)*T - 2 * cmath.log((1 - g2*cmath.exp(d2*T))/(1-g2)))\n",
    "    return([C1,C2])\n",
    "    \n",
    "def get_fi(r, phi, T, a, sigma,b1,b2,rho,d1,d2,g1,g2,C1,C2,D1,D2,v,S):\n",
    "    fi1 = cmath.exp(C1 + D1*v + 1j*phi*log(S))\n",
    "    fi2 = cmath.exp(C2 + D2*v+ 1j*phi*log(S))\n",
    "    return([fi1,fi2])"
   ]
  },
  {
   "cell_type": "markdown",
   "metadata": {},
   "source": [
    "Integrals"
   ]
  },
  {
   "cell_type": "code",
   "execution_count": 30,
   "metadata": {},
   "outputs": [],
   "source": [
    "def four1(phi):\n",
    "    [d1,d2] = get_d(rho,sigma,phi,b1,b2,u1,u2)\n",
    "    [g1,g2] = get_g(rho,sigma,phi,b1,b2,u1,u2,d1,d2)\n",
    "    [D1,D2] = get_D(rho,sigma,phi,b1,b2,u1,u2,d1,d2,g1,g2)\n",
    "    [C1,C2] = get_C(r, phi, T, a, sigma,b1,b2,rho,d1,d2,g1,g2)\n",
    "    [fi1,fi2] = get_fi(r, phi, T, a, sigma,b1,b2,rho,d1,d2,g1,g2,C1,C2,D1,D2,v,S)\n",
    "    val1 = cmath.exp(-1j*phi*log(K))*fi1/(1j*phi)\n",
    "    return(val1.real)"
   ]
  },
  {
   "cell_type": "code",
   "execution_count": 31,
   "metadata": {},
   "outputs": [],
   "source": [
    "def four2(phi):\n",
    "    [d1,d2] = get_d(rho,sigma,phi,b1,b2,u1,u2)\n",
    "    [g1,g2] = get_g(rho,sigma,phi,b1,b2,u1,u2,d1,d2)\n",
    "    [D1,D2] = get_D(rho,sigma,phi,b1,b2,u1,u2,d1,d2,g1,g2)\n",
    "    [C1,C2] = get_C(r, phi, T, a, sigma,b1,b2,rho,d1,d2,g1,g2)\n",
    "    [fi1,fi2] = get_fi(r, phi, T, a, sigma,b1,b2,rho,d1,d2,g1,g2,C1,C2,D1,D2,v,S)\n",
    "    val2 = cmath.exp(-1j*phi*log(K))*fi2/(1j*phi)\n",
    "    return(val2.real)"
   ]
  },
  {
   "cell_type": "markdown",
   "metadata": {},
   "source": [
    "Probabilities"
   ]
  },
  {
   "cell_type": "code",
   "execution_count": 32,
   "metadata": {},
   "outputs": [],
   "source": [
    "def prob(four1,four2):\n",
    "#    prob1=1/2+(1/pi)*trapezoidal(four1,0.01,600,100000)\n",
    "#    prob2=1/2+(1/pi)*trapezoidal(four2,0.01,600,100000)\n",
    "    prob1=1/2+1/pi*simp2(four1, 0.1,500, 0.0001)\n",
    "    prob2=1/2+1/pi*simp2(four2, 0.1,500, 0.0001)\n",
    "    return ([prob1,prob2])\n"
   ]
  },
  {
   "cell_type": "markdown",
   "metadata": {},
   "source": [
    "### Call Price"
   ]
  },
  {
   "cell_type": "code",
   "execution_count": 33,
   "metadata": {},
   "outputs": [],
   "source": [
    "def heston_call (S, K, v,r,T):\n",
    "    [prob1,prob2]= prob(four1, four2)\n",
    "    return S*prob1-K*exp(-r*T)*prob2"
   ]
  },
  {
   "cell_type": "code",
   "execution_count": 44,
   "metadata": {},
   "outputs": [
    {
     "ename": "TypeError",
     "evalue": "get_D() missing 1 required positional argument: 'g2'",
     "output_type": "error",
     "traceback": [
      "\u001b[0;31m---------------------------------------------------------------------------\u001b[0m",
      "\u001b[0;31mTypeError\u001b[0m                                 Traceback (most recent call last)",
      "\u001b[0;32m<ipython-input-44-73683d15b0aa>\u001b[0m in \u001b[0;36m<module>\u001b[0;34m\u001b[0m\n\u001b[0;32m----> 1\u001b[0;31m \u001b[0mprint\u001b[0m\u001b[0;34m(\u001b[0m\u001b[0mheston_call\u001b[0m\u001b[0;34m(\u001b[0m\u001b[0;36m1\u001b[0m\u001b[0;34m,\u001b[0m\u001b[0;36m0.5\u001b[0m\u001b[0;34m,\u001b[0m\u001b[0;36m0.1\u001b[0m\u001b[0;34m,\u001b[0m\u001b[0;36m0\u001b[0m\u001b[0;34m,\u001b[0m\u001b[0;36m5\u001b[0m\u001b[0;34m)\u001b[0m\u001b[0;34m)\u001b[0m\u001b[0;34m\u001b[0m\u001b[0;34m\u001b[0m\u001b[0m\n\u001b[0m\u001b[1;32m      2\u001b[0m \u001b[0mprint\u001b[0m\u001b[0;34m(\u001b[0m\u001b[0mheston_call\u001b[0m\u001b[0;34m(\u001b[0m\u001b[0;36m1\u001b[0m\u001b[0;34m,\u001b[0m\u001b[0;36m0.75\u001b[0m\u001b[0;34m,\u001b[0m\u001b[0;36m0.1\u001b[0m\u001b[0;34m,\u001b[0m\u001b[0;36m0\u001b[0m\u001b[0;34m,\u001b[0m\u001b[0;36m5\u001b[0m\u001b[0;34m)\u001b[0m\u001b[0;34m)\u001b[0m\u001b[0;34m\u001b[0m\u001b[0;34m\u001b[0m\u001b[0m\n\u001b[1;32m      3\u001b[0m \u001b[0mprint\u001b[0m\u001b[0;34m(\u001b[0m\u001b[0mheston_call\u001b[0m\u001b[0;34m(\u001b[0m\u001b[0;36m1\u001b[0m\u001b[0;34m,\u001b[0m\u001b[0;36m1\u001b[0m\u001b[0;34m,\u001b[0m\u001b[0;36m0.1\u001b[0m\u001b[0;34m,\u001b[0m\u001b[0;36m0\u001b[0m\u001b[0;34m,\u001b[0m\u001b[0;36m5\u001b[0m\u001b[0;34m)\u001b[0m\u001b[0;34m)\u001b[0m\u001b[0;34m\u001b[0m\u001b[0;34m\u001b[0m\u001b[0m\n\u001b[1;32m      4\u001b[0m \u001b[0mprint\u001b[0m\u001b[0;34m(\u001b[0m\u001b[0mheston_call\u001b[0m\u001b[0;34m(\u001b[0m\u001b[0;36m1\u001b[0m\u001b[0;34m,\u001b[0m\u001b[0;36m1.25\u001b[0m\u001b[0;34m,\u001b[0m\u001b[0;36m0.1\u001b[0m\u001b[0;34m,\u001b[0m\u001b[0;36m0\u001b[0m\u001b[0;34m,\u001b[0m\u001b[0;36m5\u001b[0m\u001b[0;34m)\u001b[0m\u001b[0;34m)\u001b[0m\u001b[0;34m\u001b[0m\u001b[0;34m\u001b[0m\u001b[0m\n\u001b[1;32m      5\u001b[0m \u001b[0mprint\u001b[0m\u001b[0;34m(\u001b[0m\u001b[0mheston_call\u001b[0m\u001b[0;34m(\u001b[0m\u001b[0;36m1\u001b[0m\u001b[0;34m,\u001b[0m\u001b[0;36m1.5\u001b[0m\u001b[0;34m,\u001b[0m\u001b[0;36m0.1\u001b[0m\u001b[0;34m,\u001b[0m\u001b[0;36m0\u001b[0m\u001b[0;34m,\u001b[0m\u001b[0;36m5\u001b[0m\u001b[0;34m)\u001b[0m\u001b[0;34m)\u001b[0m\u001b[0;34m\u001b[0m\u001b[0;34m\u001b[0m\u001b[0m\n",
      "\u001b[0;32m<ipython-input-33-3f1ef3a87728>\u001b[0m in \u001b[0;36mheston_call\u001b[0;34m(S, K, v, r, T)\u001b[0m\n\u001b[1;32m      1\u001b[0m \u001b[0;32mdef\u001b[0m \u001b[0mheston_call\u001b[0m \u001b[0;34m(\u001b[0m\u001b[0mS\u001b[0m\u001b[0;34m,\u001b[0m \u001b[0mK\u001b[0m\u001b[0;34m,\u001b[0m \u001b[0mv\u001b[0m\u001b[0;34m,\u001b[0m\u001b[0mr\u001b[0m\u001b[0;34m,\u001b[0m\u001b[0mT\u001b[0m\u001b[0;34m)\u001b[0m\u001b[0;34m:\u001b[0m\u001b[0;34m\u001b[0m\u001b[0;34m\u001b[0m\u001b[0m\n\u001b[0;32m----> 2\u001b[0;31m     \u001b[0;34m[\u001b[0m\u001b[0mprob1\u001b[0m\u001b[0;34m,\u001b[0m\u001b[0mprob2\u001b[0m\u001b[0;34m]\u001b[0m\u001b[0;34m=\u001b[0m \u001b[0mprob\u001b[0m\u001b[0;34m(\u001b[0m\u001b[0mfour1\u001b[0m\u001b[0;34m,\u001b[0m \u001b[0mfour2\u001b[0m\u001b[0;34m)\u001b[0m\u001b[0;34m\u001b[0m\u001b[0;34m\u001b[0m\u001b[0m\n\u001b[0m\u001b[1;32m      3\u001b[0m     \u001b[0;32mreturn\u001b[0m \u001b[0mS\u001b[0m\u001b[0;34m*\u001b[0m\u001b[0mprob1\u001b[0m\u001b[0;34m-\u001b[0m\u001b[0mK\u001b[0m\u001b[0;34m*\u001b[0m\u001b[0mexp\u001b[0m\u001b[0;34m(\u001b[0m\u001b[0;34m-\u001b[0m\u001b[0mr\u001b[0m\u001b[0;34m*\u001b[0m\u001b[0mT\u001b[0m\u001b[0;34m)\u001b[0m\u001b[0;34m*\u001b[0m\u001b[0mprob2\u001b[0m\u001b[0;34m\u001b[0m\u001b[0;34m\u001b[0m\u001b[0m\n",
      "\u001b[0;32m<ipython-input-32-3fbb0dc809ee>\u001b[0m in \u001b[0;36mprob\u001b[0;34m(four1, four2)\u001b[0m\n\u001b[1;32m      2\u001b[0m \u001b[0;31m#    prob1=1/2+(1/pi)*trapezoidal(four1,0.01,600,100000)\u001b[0m\u001b[0;34m\u001b[0m\u001b[0;34m\u001b[0m\u001b[0;34m\u001b[0m\u001b[0m\n\u001b[1;32m      3\u001b[0m \u001b[0;31m#    prob2=1/2+(1/pi)*trapezoidal(four2,0.01,600,100000)\u001b[0m\u001b[0;34m\u001b[0m\u001b[0;34m\u001b[0m\u001b[0;34m\u001b[0m\u001b[0m\n\u001b[0;32m----> 4\u001b[0;31m     \u001b[0mprob1\u001b[0m\u001b[0;34m=\u001b[0m\u001b[0;36m1\u001b[0m\u001b[0;34m/\u001b[0m\u001b[0;36m2\u001b[0m\u001b[0;34m+\u001b[0m\u001b[0;36m1\u001b[0m\u001b[0;34m/\u001b[0m\u001b[0mpi\u001b[0m\u001b[0;34m*\u001b[0m\u001b[0msimp2\u001b[0m\u001b[0;34m(\u001b[0m\u001b[0mfour1\u001b[0m\u001b[0;34m,\u001b[0m \u001b[0;36m0.1\u001b[0m\u001b[0;34m,\u001b[0m\u001b[0;36m500\u001b[0m\u001b[0;34m,\u001b[0m \u001b[0;36m0.0001\u001b[0m\u001b[0;34m)\u001b[0m\u001b[0;34m\u001b[0m\u001b[0;34m\u001b[0m\u001b[0m\n\u001b[0m\u001b[1;32m      5\u001b[0m     \u001b[0mprob2\u001b[0m\u001b[0;34m=\u001b[0m\u001b[0;36m1\u001b[0m\u001b[0;34m/\u001b[0m\u001b[0;36m2\u001b[0m\u001b[0;34m+\u001b[0m\u001b[0;36m1\u001b[0m\u001b[0;34m/\u001b[0m\u001b[0mpi\u001b[0m\u001b[0;34m*\u001b[0m\u001b[0msimp2\u001b[0m\u001b[0;34m(\u001b[0m\u001b[0mfour2\u001b[0m\u001b[0;34m,\u001b[0m \u001b[0;36m0.1\u001b[0m\u001b[0;34m,\u001b[0m\u001b[0;36m500\u001b[0m\u001b[0;34m,\u001b[0m \u001b[0;36m0.0001\u001b[0m\u001b[0;34m)\u001b[0m\u001b[0;34m\u001b[0m\u001b[0;34m\u001b[0m\u001b[0m\n\u001b[1;32m      6\u001b[0m     \u001b[0;32mreturn\u001b[0m \u001b[0;34m(\u001b[0m\u001b[0;34m[\u001b[0m\u001b[0mprob1\u001b[0m\u001b[0;34m,\u001b[0m\u001b[0mprob2\u001b[0m\u001b[0;34m]\u001b[0m\u001b[0;34m)\u001b[0m\u001b[0;34m\u001b[0m\u001b[0;34m\u001b[0m\u001b[0m\n",
      "\u001b[0;32m<ipython-input-24-a8b4c97a283f>\u001b[0m in \u001b[0;36msimp2\u001b[0;34m(f, a, b, ep)\u001b[0m\n\u001b[1;32m     68\u001b[0m         \u001b[0ms1\u001b[0m\u001b[0;34m=\u001b[0m\u001b[0;36m0\u001b[0m\u001b[0;34m\u001b[0m\u001b[0;34m\u001b[0m\u001b[0m\n\u001b[1;32m     69\u001b[0m         \u001b[0mh\u001b[0m\u001b[0;34m=\u001b[0m\u001b[0;34m(\u001b[0m\u001b[0mb\u001b[0m\u001b[0;34m-\u001b[0m\u001b[0ma\u001b[0m\u001b[0;34m)\u001b[0m\u001b[0;34m/\u001b[0m\u001b[0mn\u001b[0m\u001b[0;34m\u001b[0m\u001b[0;34m\u001b[0m\u001b[0m\n\u001b[0;32m---> 70\u001b[0;31m         \u001b[0ms3\u001b[0m\u001b[0;34m=\u001b[0m\u001b[0;34m(\u001b[0m\u001b[0mf\u001b[0m\u001b[0;34m(\u001b[0m\u001b[0ma\u001b[0m\u001b[0;34m)\u001b[0m\u001b[0;34m+\u001b[0m\u001b[0mf\u001b[0m\u001b[0;34m(\u001b[0m\u001b[0mb\u001b[0m\u001b[0;34m)\u001b[0m\u001b[0;34m)\u001b[0m\u001b[0;34m\u001b[0m\u001b[0;34m\u001b[0m\u001b[0m\n\u001b[0m\u001b[1;32m     71\u001b[0m         \u001b[0ms5\u001b[0m\u001b[0;34m=\u001b[0m\u001b[0;36m0\u001b[0m\u001b[0;34m\u001b[0m\u001b[0;34m\u001b[0m\u001b[0m\n\u001b[1;32m     72\u001b[0m         \u001b[0;32mfor\u001b[0m \u001b[0mi\u001b[0m \u001b[0;32min\u001b[0m \u001b[0mrange\u001b[0m\u001b[0;34m(\u001b[0m\u001b[0;36m1\u001b[0m\u001b[0;34m,\u001b[0m\u001b[0mn\u001b[0m\u001b[0;34m//\u001b[0m\u001b[0;36m2\u001b[0m\u001b[0;34m-\u001b[0m\u001b[0;36m1\u001b[0m\u001b[0;34m)\u001b[0m\u001b[0;34m:\u001b[0m\u001b[0;34m\u001b[0m\u001b[0;34m\u001b[0m\u001b[0m\n",
      "\u001b[0;32m<ipython-input-30-f180f1d22f70>\u001b[0m in \u001b[0;36mfour1\u001b[0;34m(phi)\u001b[0m\n\u001b[1;32m      2\u001b[0m     \u001b[0;34m[\u001b[0m\u001b[0md1\u001b[0m\u001b[0;34m,\u001b[0m\u001b[0md2\u001b[0m\u001b[0;34m]\u001b[0m \u001b[0;34m=\u001b[0m \u001b[0mget_d\u001b[0m\u001b[0;34m(\u001b[0m\u001b[0mrho\u001b[0m\u001b[0;34m,\u001b[0m\u001b[0msigma\u001b[0m\u001b[0;34m,\u001b[0m\u001b[0mphi\u001b[0m\u001b[0;34m,\u001b[0m\u001b[0mb1\u001b[0m\u001b[0;34m,\u001b[0m\u001b[0mb2\u001b[0m\u001b[0;34m,\u001b[0m\u001b[0mu1\u001b[0m\u001b[0;34m,\u001b[0m\u001b[0mu2\u001b[0m\u001b[0;34m)\u001b[0m\u001b[0;34m\u001b[0m\u001b[0;34m\u001b[0m\u001b[0m\n\u001b[1;32m      3\u001b[0m     \u001b[0;34m[\u001b[0m\u001b[0mg1\u001b[0m\u001b[0;34m,\u001b[0m\u001b[0mg2\u001b[0m\u001b[0;34m]\u001b[0m \u001b[0;34m=\u001b[0m \u001b[0mget_g\u001b[0m\u001b[0;34m(\u001b[0m\u001b[0mrho\u001b[0m\u001b[0;34m,\u001b[0m\u001b[0msigma\u001b[0m\u001b[0;34m,\u001b[0m\u001b[0mphi\u001b[0m\u001b[0;34m,\u001b[0m\u001b[0mb1\u001b[0m\u001b[0;34m,\u001b[0m\u001b[0mb2\u001b[0m\u001b[0;34m,\u001b[0m\u001b[0mu1\u001b[0m\u001b[0;34m,\u001b[0m\u001b[0mu2\u001b[0m\u001b[0;34m,\u001b[0m\u001b[0md1\u001b[0m\u001b[0;34m,\u001b[0m\u001b[0md2\u001b[0m\u001b[0;34m)\u001b[0m\u001b[0;34m\u001b[0m\u001b[0;34m\u001b[0m\u001b[0m\n\u001b[0;32m----> 4\u001b[0;31m     \u001b[0;34m[\u001b[0m\u001b[0mD1\u001b[0m\u001b[0;34m,\u001b[0m\u001b[0mD2\u001b[0m\u001b[0;34m]\u001b[0m \u001b[0;34m=\u001b[0m \u001b[0mget_D\u001b[0m\u001b[0;34m(\u001b[0m\u001b[0mrho\u001b[0m\u001b[0;34m,\u001b[0m\u001b[0msigma\u001b[0m\u001b[0;34m,\u001b[0m\u001b[0mphi\u001b[0m\u001b[0;34m,\u001b[0m\u001b[0mb1\u001b[0m\u001b[0;34m,\u001b[0m\u001b[0mb2\u001b[0m\u001b[0;34m,\u001b[0m\u001b[0mu1\u001b[0m\u001b[0;34m,\u001b[0m\u001b[0mu2\u001b[0m\u001b[0;34m,\u001b[0m\u001b[0md1\u001b[0m\u001b[0;34m,\u001b[0m\u001b[0md2\u001b[0m\u001b[0;34m,\u001b[0m\u001b[0mg1\u001b[0m\u001b[0;34m,\u001b[0m\u001b[0mg2\u001b[0m\u001b[0;34m)\u001b[0m\u001b[0;34m\u001b[0m\u001b[0;34m\u001b[0m\u001b[0m\n\u001b[0m\u001b[1;32m      5\u001b[0m     \u001b[0;34m[\u001b[0m\u001b[0mC1\u001b[0m\u001b[0;34m,\u001b[0m\u001b[0mC2\u001b[0m\u001b[0;34m]\u001b[0m \u001b[0;34m=\u001b[0m \u001b[0mget_C\u001b[0m\u001b[0;34m(\u001b[0m\u001b[0mr\u001b[0m\u001b[0;34m,\u001b[0m \u001b[0mphi\u001b[0m\u001b[0;34m,\u001b[0m \u001b[0mT\u001b[0m\u001b[0;34m,\u001b[0m \u001b[0ma\u001b[0m\u001b[0;34m,\u001b[0m \u001b[0msigma\u001b[0m\u001b[0;34m,\u001b[0m\u001b[0mb1\u001b[0m\u001b[0;34m,\u001b[0m\u001b[0mb2\u001b[0m\u001b[0;34m,\u001b[0m\u001b[0mrho\u001b[0m\u001b[0;34m,\u001b[0m\u001b[0md1\u001b[0m\u001b[0;34m,\u001b[0m\u001b[0md2\u001b[0m\u001b[0;34m,\u001b[0m\u001b[0mg1\u001b[0m\u001b[0;34m,\u001b[0m\u001b[0mg2\u001b[0m\u001b[0;34m)\u001b[0m\u001b[0;34m\u001b[0m\u001b[0;34m\u001b[0m\u001b[0m\n\u001b[1;32m      6\u001b[0m     \u001b[0;34m[\u001b[0m\u001b[0mfi1\u001b[0m\u001b[0;34m,\u001b[0m\u001b[0mfi2\u001b[0m\u001b[0;34m]\u001b[0m \u001b[0;34m=\u001b[0m \u001b[0mget_fi\u001b[0m\u001b[0;34m(\u001b[0m\u001b[0mr\u001b[0m\u001b[0;34m,\u001b[0m \u001b[0mphi\u001b[0m\u001b[0;34m,\u001b[0m \u001b[0mT\u001b[0m\u001b[0;34m,\u001b[0m \u001b[0ma\u001b[0m\u001b[0;34m,\u001b[0m \u001b[0msigma\u001b[0m\u001b[0;34m,\u001b[0m\u001b[0mb1\u001b[0m\u001b[0;34m,\u001b[0m\u001b[0mb2\u001b[0m\u001b[0;34m,\u001b[0m\u001b[0mrho\u001b[0m\u001b[0;34m,\u001b[0m\u001b[0md1\u001b[0m\u001b[0;34m,\u001b[0m\u001b[0md2\u001b[0m\u001b[0;34m,\u001b[0m\u001b[0mg1\u001b[0m\u001b[0;34m,\u001b[0m\u001b[0mg2\u001b[0m\u001b[0;34m,\u001b[0m\u001b[0mC1\u001b[0m\u001b[0;34m,\u001b[0m\u001b[0mC2\u001b[0m\u001b[0;34m,\u001b[0m\u001b[0mD1\u001b[0m\u001b[0;34m,\u001b[0m\u001b[0mD2\u001b[0m\u001b[0;34m,\u001b[0m\u001b[0mv\u001b[0m\u001b[0;34m,\u001b[0m\u001b[0mS\u001b[0m\u001b[0;34m)\u001b[0m\u001b[0;34m\u001b[0m\u001b[0;34m\u001b[0m\u001b[0m\n",
      "\u001b[0;31mTypeError\u001b[0m: get_D() missing 1 required positional argument: 'g2'"
     ]
    }
   ],
   "source": [
    "print(heston_call(1,0.5,0.1,0,5))\n",
    "print(heston_call(1,0.75,0.1,0,5)) \n",
    "print(heston_call(1,1,0.1,0,5))\n",
    "print(heston_call(1,1.25,0.1,0,5))\n",
    "print(heston_call(1,1.5,0.1,0,5))\n",
    "print(heston_call(1,1.70,0.1,0,5))\n"
   ]
  },
  {
   "cell_type": "code",
   "execution_count": null,
   "metadata": {},
   "outputs": [],
   "source": []
  }
 ],
 "metadata": {
  "kernelspec": {
   "display_name": "Python 3",
   "language": "python",
   "name": "python3"
  },
  "language_info": {
   "codemirror_mode": {
    "name": "ipython",
    "version": 3
   },
   "file_extension": ".py",
   "mimetype": "text/x-python",
   "name": "python",
   "nbconvert_exporter": "python",
   "pygments_lexer": "ipython3",
   "version": "3.6.7"
  }
 },
 "nbformat": 4,
 "nbformat_minor": 2
}
